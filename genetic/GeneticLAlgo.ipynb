{
  "nbformat": 4,
  "nbformat_minor": 0,
  "metadata": {
    "colab": {
      "name": "GeneticLAlgo.ipynb",
      "provenance": [],
      "collapsed_sections": []
    },
    "kernelspec": {
      "name": "python3",
      "display_name": "Python 3.8.5 64-bit ('base': conda)"
    },
    "language_info": {
      "name": "python",
      "version": "3.8.5"
    },
    "interpreter": {
      "hash": "0bfab3d0f48f7b2bcb666cc3392a33c0d2a40954fba87aef458c2410371fa896"
    }
  },
  "cells": [
    {
      "cell_type": "code",
      "metadata": {
        "id": "Ae8KaykYn91j"
      },
      "source": [
        "import numpy as np, random, operator, pandas as pd, matplotlib.pyplot as plt"
      ],
      "execution_count": 1,
      "outputs": []
    },
    {
      "cell_type": "code",
      "metadata": {
        "id": "LpuDKyuoFjM-"
      },
      "source": [
        "import webbrowser\n",
        "import os.path as os\n",
        "from __future__ import print_function\n",
        "from itertools import combinations"
      ],
      "execution_count": 2,
      "outputs": []
    },
    {
      "cell_type": "code",
      "metadata": {
        "colab": {
          "base_uri": "https://localhost:8080/",
          "height": 204
        },
        "id": "SQlM7vs7YdM1",
        "outputId": "f39eec5c-f585-4fe5-8aa7-66d3e77dea22"
      },
      "source": [
        "df = pd.read_excel(\"./latLngDataset.xlsx\")\n",
        "df.head(5)"
      ],
      "execution_count": 8,
      "outputs": [
        {
          "output_type": "execute_result",
          "data": {
            "text/plain": [
              "        city      lat      lng country iso2   admin_name capital  population  \\\n",
              "0      Delhi  28.6600  77.2300   India   IN        Delhi   admin  29617000.0   \n",
              "1     Mumbai  18.9667  72.8333   India   IN  Mahārāshtra   admin  23355000.0   \n",
              "2    Kolkāta  22.5411  88.3378   India   IN  West Bengal   admin  17560000.0   \n",
              "3  Bangalore  12.9699  77.5980   India   IN    Karnātaka   admin  13707000.0   \n",
              "4    Chennai  13.0825  80.2750   India   IN   Tamil Nādu   admin  11324000.0   \n",
              "\n",
              "   population_proper  \n",
              "0         16753235.0  \n",
              "1         12478447.0  \n",
              "2          4496694.0  \n",
              "3          8443675.0  \n",
              "4          6727000.0  "
            ],
            "text/html": "<div>\n<style scoped>\n    .dataframe tbody tr th:only-of-type {\n        vertical-align: middle;\n    }\n\n    .dataframe tbody tr th {\n        vertical-align: top;\n    }\n\n    .dataframe thead th {\n        text-align: right;\n    }\n</style>\n<table border=\"1\" class=\"dataframe\">\n  <thead>\n    <tr style=\"text-align: right;\">\n      <th></th>\n      <th>city</th>\n      <th>lat</th>\n      <th>lng</th>\n      <th>country</th>\n      <th>iso2</th>\n      <th>admin_name</th>\n      <th>capital</th>\n      <th>population</th>\n      <th>population_proper</th>\n    </tr>\n  </thead>\n  <tbody>\n    <tr>\n      <th>0</th>\n      <td>Delhi</td>\n      <td>28.6600</td>\n      <td>77.2300</td>\n      <td>India</td>\n      <td>IN</td>\n      <td>Delhi</td>\n      <td>admin</td>\n      <td>29617000.0</td>\n      <td>16753235.0</td>\n    </tr>\n    <tr>\n      <th>1</th>\n      <td>Mumbai</td>\n      <td>18.9667</td>\n      <td>72.8333</td>\n      <td>India</td>\n      <td>IN</td>\n      <td>Mahārāshtra</td>\n      <td>admin</td>\n      <td>23355000.0</td>\n      <td>12478447.0</td>\n    </tr>\n    <tr>\n      <th>2</th>\n      <td>Kolkāta</td>\n      <td>22.5411</td>\n      <td>88.3378</td>\n      <td>India</td>\n      <td>IN</td>\n      <td>West Bengal</td>\n      <td>admin</td>\n      <td>17560000.0</td>\n      <td>4496694.0</td>\n    </tr>\n    <tr>\n      <th>3</th>\n      <td>Bangalore</td>\n      <td>12.9699</td>\n      <td>77.5980</td>\n      <td>India</td>\n      <td>IN</td>\n      <td>Karnātaka</td>\n      <td>admin</td>\n      <td>13707000.0</td>\n      <td>8443675.0</td>\n    </tr>\n    <tr>\n      <th>4</th>\n      <td>Chennai</td>\n      <td>13.0825</td>\n      <td>80.2750</td>\n      <td>India</td>\n      <td>IN</td>\n      <td>Tamil Nādu</td>\n      <td>admin</td>\n      <td>11324000.0</td>\n      <td>6727000.0</td>\n    </tr>\n  </tbody>\n</table>\n</div>"
          },
          "metadata": {},
          "execution_count": 8
        }
      ]
    },
    {
      "cell_type": "code",
      "metadata": {
        "id": "KeUlfR9nckL7"
      },
      "source": [],
      "execution_count": null,
      "outputs": []
    },
    {
      "cell_type": "code",
      "metadata": {
        "colab": {
          "base_uri": "https://localhost:8080/",
          "height": 419
        },
        "id": "1qVUmPFQZ4yX",
        "outputId": "56b925c1-e830-4b5c-880a-e85772a4a5a0"
      },
      "source": [
        "a1 = df[\"lat\"]\n",
        "a1.to_frame()"
      ],
      "execution_count": null,
      "outputs": [
        {
          "output_type": "execute_result",
          "data": {
            "text/html": [
              "<div>\n",
              "<style scoped>\n",
              "    .dataframe tbody tr th:only-of-type {\n",
              "        vertical-align: middle;\n",
              "    }\n",
              "\n",
              "    .dataframe tbody tr th {\n",
              "        vertical-align: top;\n",
              "    }\n",
              "\n",
              "    .dataframe thead th {\n",
              "        text-align: right;\n",
              "    }\n",
              "</style>\n",
              "<table border=\"1\" class=\"dataframe\">\n",
              "  <thead>\n",
              "    <tr style=\"text-align: right;\">\n",
              "      <th></th>\n",
              "      <th>lat</th>\n",
              "    </tr>\n",
              "  </thead>\n",
              "  <tbody>\n",
              "    <tr>\n",
              "      <th>0</th>\n",
              "      <td>28.6600</td>\n",
              "    </tr>\n",
              "    <tr>\n",
              "      <th>1</th>\n",
              "      <td>18.9667</td>\n",
              "    </tr>\n",
              "    <tr>\n",
              "      <th>2</th>\n",
              "      <td>22.5411</td>\n",
              "    </tr>\n",
              "    <tr>\n",
              "      <th>3</th>\n",
              "      <td>12.9699</td>\n",
              "    </tr>\n",
              "    <tr>\n",
              "      <th>4</th>\n",
              "      <td>13.0825</td>\n",
              "    </tr>\n",
              "    <tr>\n",
              "      <th>...</th>\n",
              "      <td>...</td>\n",
              "    </tr>\n",
              "    <tr>\n",
              "      <th>182</th>\n",
              "      <td>15.4800</td>\n",
              "    </tr>\n",
              "    <tr>\n",
              "      <th>183</th>\n",
              "      <td>20.4170</td>\n",
              "    </tr>\n",
              "    <tr>\n",
              "      <th>184</th>\n",
              "      <td>10.5626</td>\n",
              "    </tr>\n",
              "    <tr>\n",
              "      <th>185</th>\n",
              "      <td>30.6915</td>\n",
              "    </tr>\n",
              "    <tr>\n",
              "      <th>186</th>\n",
              "      <td>19.3316</td>\n",
              "    </tr>\n",
              "  </tbody>\n",
              "</table>\n",
              "<p>187 rows × 1 columns</p>\n",
              "</div>"
            ],
            "text/plain": [
              "         lat\n",
              "0    28.6600\n",
              "1    18.9667\n",
              "2    22.5411\n",
              "3    12.9699\n",
              "4    13.0825\n",
              "..       ...\n",
              "182  15.4800\n",
              "183  20.4170\n",
              "184  10.5626\n",
              "185  30.6915\n",
              "186  19.3316\n",
              "\n",
              "[187 rows x 1 columns]"
            ]
          },
          "metadata": {
            "tags": []
          },
          "execution_count": 29
        }
      ]
    },
    {
      "cell_type": "code",
      "metadata": {
        "colab": {
          "base_uri": "https://localhost:8080/",
          "height": 419
        },
        "id": "6_hN1sjVbZlw",
        "outputId": "91f3e95e-1f36-4408-ef6b-08665945f85c"
      },
      "source": [
        "a2 = df[\"lng\"]\n",
        "a2.to_frame()"
      ],
      "execution_count": 9,
      "outputs": [
        {
          "output_type": "execute_result",
          "data": {
            "text/plain": [
              "         lng\n",
              "0    77.2300\n",
              "1    72.8333\n",
              "2    88.3378\n",
              "3    77.5980\n",
              "4    80.2750\n",
              "..       ...\n",
              "182  73.8300\n",
              "183  72.8500\n",
              "184  72.6369\n",
              "185  76.8537\n",
              "186  79.4661\n",
              "\n",
              "[187 rows x 1 columns]"
            ],
            "text/html": "<div>\n<style scoped>\n    .dataframe tbody tr th:only-of-type {\n        vertical-align: middle;\n    }\n\n    .dataframe tbody tr th {\n        vertical-align: top;\n    }\n\n    .dataframe thead th {\n        text-align: right;\n    }\n</style>\n<table border=\"1\" class=\"dataframe\">\n  <thead>\n    <tr style=\"text-align: right;\">\n      <th></th>\n      <th>lng</th>\n    </tr>\n  </thead>\n  <tbody>\n    <tr>\n      <th>0</th>\n      <td>77.2300</td>\n    </tr>\n    <tr>\n      <th>1</th>\n      <td>72.8333</td>\n    </tr>\n    <tr>\n      <th>2</th>\n      <td>88.3378</td>\n    </tr>\n    <tr>\n      <th>3</th>\n      <td>77.5980</td>\n    </tr>\n    <tr>\n      <th>4</th>\n      <td>80.2750</td>\n    </tr>\n    <tr>\n      <th>...</th>\n      <td>...</td>\n    </tr>\n    <tr>\n      <th>182</th>\n      <td>73.8300</td>\n    </tr>\n    <tr>\n      <th>183</th>\n      <td>72.8500</td>\n    </tr>\n    <tr>\n      <th>184</th>\n      <td>72.6369</td>\n    </tr>\n    <tr>\n      <th>185</th>\n      <td>76.8537</td>\n    </tr>\n    <tr>\n      <th>186</th>\n      <td>79.4661</td>\n    </tr>\n  </tbody>\n</table>\n<p>187 rows × 1 columns</p>\n</div>"
          },
          "metadata": {},
          "execution_count": 9
        }
      ]
    },
    {
      "cell_type": "code",
      "metadata": {
        "id": "BAmS9U0LoFzn"
      },
      "source": [
        "class City:\n",
        "    def __init__(self, x, y):\n",
        "        self.x = x\n",
        "        self.y = y\n",
        "    \n",
        "    def distance(self, city):\n",
        "        xDis = abs(self.x - city.x)\n",
        "        yDis = abs(self.y - city.y)\n",
        "        distance = np.sqrt((xDis ** 2) + (yDis ** 2))\n",
        "        return distance\n",
        "    \n",
        "    def __repr__(self):\n",
        "        return \"(\" + str(self.x) + \",\" + str(self.y) + \")\""
      ],
      "execution_count": 10,
      "outputs": []
    },
    {
      "cell_type": "code",
      "metadata": {
        "id": "zrm_CZa9oNva"
      },
      "source": [
        "class Fitness:\n",
        "    def __init__(self, route):\n",
        "        self.route = route\n",
        "        self.distance = 0\n",
        "        self.fitness= 0.0\n",
        "    \n",
        "    def routeDistance(self):\n",
        "        if self.distance ==0:\n",
        "            pathDistance = 0\n",
        "            for i in range(0, len(self.route)):\n",
        "                fromCity = self.route[i]\n",
        "                toCity = None\n",
        "                if i + 1 < len(self.route):\n",
        "                    toCity = self.route[i + 1]\n",
        "                else:\n",
        "                    toCity = self.route[0]\n",
        "                pathDistance += fromCity.distance(toCity)\n",
        "            self.distance = pathDistance\n",
        "        return self.distance\n",
        "    \n",
        "    def routeFitness(self):\n",
        "        if self.fitness == 0:\n",
        "            self.fitness = 1 / float(self.routeDistance())\n",
        "        return self.fitness"
      ],
      "execution_count": null,
      "outputs": []
    },
    {
      "cell_type": "code",
      "metadata": {
        "id": "UfoLzvZRoPcK"
      },
      "source": [
        "def createRoute(cityList):\n",
        "    route = random.sample(cityList, len(cityList))\n",
        "    return route"
      ],
      "execution_count": 11,
      "outputs": []
    },
    {
      "cell_type": "code",
      "metadata": {
        "id": "3vSVXKRfoR7q"
      },
      "source": [
        "def initialPopulation(popSize, cityList):\n",
        "    population = []\n",
        "\n",
        "    for i in range(0, popSize):\n",
        "        population.append(createRoute(cityList))\n",
        "    return population"
      ],
      "execution_count": 12,
      "outputs": []
    },
    {
      "cell_type": "code",
      "metadata": {
        "id": "o_pt9GgjoThk"
      },
      "source": [
        "def rankRoutes(population):\n",
        "    fitnessResults = {}\n",
        "    for i in range(0,len(population)):\n",
        "        fitnessResults[i] = Fitness(population[i]).routeFitness()\n",
        "    return sorted(fitnessResults.items(), key = operator.itemgetter(1), reverse = True)"
      ],
      "execution_count": 13,
      "outputs": []
    },
    {
      "cell_type": "code",
      "metadata": {
        "id": "r5NPHkBNoVbM"
      },
      "source": [
        "def selection(popRanked, eliteSize):\n",
        "    selectionResults = []\n",
        "    df = pd.DataFrame(np.array(popRanked), columns=[\"Index\",\"Fitness\"])\n",
        "    df['cum_sum'] = df.Fitness.cumsum()\n",
        "    df['cum_perc'] = 100*df.cum_sum/df.Fitness.sum()\n",
        "    \n",
        "    for i in range(0, eliteSize):\n",
        "        selectionResults.append(popRanked[i][0])\n",
        "    for i in range(0, len(popRanked) - eliteSize):\n",
        "        pick = 100*random.random()\n",
        "        for i in range(0, len(popRanked)):\n",
        "            if pick <= df.iat[i,3]:\n",
        "                selectionResults.append(popRanked[i][0])\n",
        "                break\n",
        "    return selectionResults"
      ],
      "execution_count": null,
      "outputs": []
    },
    {
      "cell_type": "code",
      "metadata": {
        "id": "GUezi5-ZoXpW"
      },
      "source": [
        "def matingPool(population, selectionResults):\n",
        "    matingpool = []\n",
        "    for i in range(0, len(selectionResults)):\n",
        "        index = selectionResults[i]\n",
        "        matingpool.append(population[index])\n",
        "    return matingpool"
      ],
      "execution_count": 14,
      "outputs": []
    },
    {
      "cell_type": "code",
      "metadata": {
        "id": "TDJDS5xJoZQH"
      },
      "source": [
        "def breed(parent1, parent2):\n",
        "    child = []\n",
        "    childP1 = []\n",
        "    childP2 = []\n",
        "    \n",
        "    geneA = int(random.random() * len(parent1))\n",
        "    geneB = int(random.random() * len(parent1))\n",
        "    \n",
        "    startGene = min(geneA, geneB)\n",
        "    endGene = max(geneA, geneB)\n",
        "\n",
        "    for i in range(startGene, endGene):\n",
        "        childP1.append(parent1[i])\n",
        "        \n",
        "    childP2 = [item for item in parent2 if item not in childP1]\n",
        "\n",
        "    child = childP1 + childP2\n",
        "    return child"
      ],
      "execution_count": null,
      "outputs": []
    },
    {
      "cell_type": "code",
      "metadata": {
        "id": "A02yTR9QocSX"
      },
      "source": [
        "def breedPopulation(matingpool, eliteSize):\n",
        "    children = []\n",
        "    length = len(matingpool) - eliteSize\n",
        "    pool = random.sample(matingpool, len(matingpool))\n",
        "\n",
        "    for i in range(0,eliteSize):\n",
        "        children.append(matingpool[i])\n",
        "    \n",
        "    for i in range(0, length):\n",
        "        child = breed(pool[i], pool[len(matingpool)-i-1])\n",
        "        children.append(child)\n",
        "    return children"
      ],
      "execution_count": 15,
      "outputs": []
    },
    {
      "cell_type": "code",
      "metadata": {
        "id": "-2YGdy7MoeJh"
      },
      "source": [
        "def mutate(individual, mutationRate):\n",
        "    for swapped in range(len(individual)):\n",
        "        if(random.random() < mutationRate):\n",
        "            swapWith = int(random.random() * len(individual))\n",
        "            \n",
        "            city1 = individual[swapped]\n",
        "            city2 = individual[swapWith]\n",
        "            \n",
        "            individual[swapped] = city2\n",
        "            individual[swapWith] = city1\n",
        "    return individual"
      ],
      "execution_count": 16,
      "outputs": []
    },
    {
      "cell_type": "code",
      "metadata": {
        "id": "TfeXDN0uogIJ"
      },
      "source": [
        "def mutatePopulation(population, mutationRate):\n",
        "    mutatedPop = []\n",
        "    \n",
        "    for ind in range(0, len(population)):\n",
        "        mutatedInd = mutate(population[ind], mutationRate)\n",
        "        mutatedPop.append(mutatedInd)\n",
        "    return mutatedPop"
      ],
      "execution_count": 17,
      "outputs": []
    },
    {
      "cell_type": "code",
      "metadata": {
        "id": "lc8nMdfXoisq"
      },
      "source": [
        "def nextGeneration(currentGen, eliteSize, mutationRate):\n",
        "    popRanked = rankRoutes(currentGen)\n",
        "    selectionResults = selection(popRanked, eliteSize)\n",
        "    matingpool = matingPool(currentGen, selectionResults)\n",
        "    children = breedPopulation(matingpool, eliteSize)\n",
        "    nextGeneration = mutatePopulation(children, mutationRate)\n",
        "    return nextGeneration"
      ],
      "execution_count": 18,
      "outputs": []
    },
    {
      "cell_type": "code",
      "metadata": {
        "id": "u59zUotXokIL"
      },
      "source": [
        "def geneticAlgorithm(population, popSize, eliteSize, mutationRate, generations):\n",
        "    pop = initialPopulation(popSize, population)\n",
        "    print(\"Initial distance: \" + str(1 / rankRoutes(pop)[0][1]))\n",
        "    \n",
        "    for i in range(0, generations):\n",
        "        pop = nextGeneration(pop, eliteSize, mutationRate)\n",
        "    \n",
        "    print(\"Final distance: \" + str(1 / rankRoutes(pop)[0][1]))\n",
        "    bestRouteIndex = rankRoutes(pop)[0][0]\n",
        "    bestRoute = pop[bestRouteIndex]\n",
        "    return bestRoute\n",
        "\n"
      ],
      "execution_count": 19,
      "outputs": []
    },
    {
      "cell_type": "code",
      "metadata": {
        "id": "hOzBaKbvomFM"
      },
      "source": [
        "# cityList = []\n",
        "\n",
        "# for i in range(0,25):\n",
        "#     cityList.append(City(a1, a2))\n",
        "\n",
        "cityList = []\n",
        "\n",
        "for i in range(0,25):\n",
        "    cityList.append(City(a1[i],a2[i]))"
      ],
      "execution_count": null,
      "outputs": []
    },
    {
      "cell_type": "code",
      "metadata": {
        "colab": {
          "base_uri": "https://localhost:8080/"
        },
        "id": "HpftcGZCh-lo",
        "outputId": "4e9c6e68-fb36-4e32-a545-946d7979692b"
      },
      "source": [
        "cityList"
      ],
      "execution_count": null,
      "outputs": [
        {
          "output_type": "execute_result",
          "data": {
            "text/plain": [
              "[(28.66,77.23),\n",
              " (18.9667,72.8333),\n",
              " (22.5411,88.3378),\n",
              " (12.9699,77.598),\n",
              " (13.0825,80.275),\n",
              " (17.3667,78.4667),\n",
              " (18.5196,73.8553),\n",
              " (23.03,72.58),\n",
              " (21.17,72.83),\n",
              " (26.847,80.947),\n",
              " (26.9167,75.8667),\n",
              " (26.4725,80.3311),\n",
              " (25.15,82.58),\n",
              " (21.1539,79.0831),\n",
              " (28.6667,77.4167),\n",
              " (22.7206,75.8472),\n",
              " (22.3,73.2),\n",
              " (17.7333,83.3167),\n",
              " (23.25,77.4167),\n",
              " (18.6278,73.8131),\n",
              " (25.61,85.1414),\n",
              " (30.9083,75.8486),\n",
              " (27.18,78.02),\n",
              " (19.2502,73.1602),\n",
              " (9.9197,78.1194)]"
            ]
          },
          "metadata": {
            "tags": []
          },
          "execution_count": 46
        }
      ]
    },
    {
      "cell_type": "code",
      "metadata": {
        "colab": {
          "base_uri": "https://localhost:8080/"
        },
        "id": "pNeVXhIeoqnP",
        "outputId": "dc268dd4-5a57-43d9-c33b-6bac8adee6d5"
      },
      "source": [
        "distValue = geneticAlgorithm(population=cityList, popSize=100, eliteSize=20, mutationRate=0.01, generations=500)"
      ],
      "execution_count": null,
      "outputs": [
        {
          "output_type": "stream",
          "text": [
            "Initial distance: 171.40718658700618\n",
            "Final distance: 69.27178999123215\n"
          ],
          "name": "stdout"
        }
      ]
    },
    {
      "cell_type": "code",
      "metadata": {
        "colab": {
          "base_uri": "https://localhost:8080/"
        },
        "id": "d8Btf9lNXvfP",
        "outputId": "dd2f808e-0b14-494e-9f2f-44190287088f"
      },
      "source": [
        "distValue"
      ],
      "execution_count": null,
      "outputs": [
        {
          "output_type": "execute_result",
          "data": {
            "text/plain": [
              "[(-14.270972,-170.132217),\n",
              " (-38.416097,-63.616671999999994),\n",
              " (-75.250973,-0.071389),\n",
              " (-11.202691999999999,17.873887),\n",
              " (-3.3730559999999996,29.918885999999997),\n",
              " (-25.274398,133.775136),\n",
              " (23.684994,90.35633100000001),\n",
              " (33.93911,67.709953),\n",
              " (23.424076,53.847818000000004),\n",
              " (25.930414000000003,50.637772),\n",
              " (40.143105,47.576927000000005),\n",
              " (40.069099,45.038189),\n",
              " (42.733883,25.48583),\n",
              " (41.153332,20.168331),\n",
              " (43.915886,17.679076000000002),\n",
              " (47.516231,14.550072),\n",
              " (50.503887,4.469936),\n",
              " (42.546245,1.6015540000000001),\n",
              " (9.30769,2.315834),\n",
              " (12.238333,-1.561593),\n",
              " (18.220554,-63.068615),\n",
              " (17.060816,-61.796428000000006),\n",
              " (13.193887,-59.543198),\n",
              " (12.226078999999999,-69.060087),\n",
              " (12.52111,-69.968338)]"
            ]
          },
          "metadata": {
            "tags": []
          },
          "execution_count": 27
        }
      ]
    },
    {
      "cell_type": "code",
      "metadata": {
        "colab": {
          "base_uri": "https://localhost:8080/"
        },
        "id": "ELCEMLkFYIeY",
        "outputId": "02bfd1e5-5889-41d9-d12a-3a6ab72d8c34"
      },
      "source": [
        "type(distValue)\n"
      ],
      "execution_count": null,
      "outputs": [
        {
          "output_type": "execute_result",
          "data": {
            "text/plain": [
              "list"
            ]
          },
          "metadata": {
            "tags": []
          },
          "execution_count": 31
        }
      ]
    },
    {
      "cell_type": "code",
      "metadata": {
        "id": "GOKVSSshpidn"
      },
      "source": [
        "def geneticAlgorithmPlot(population, popSize, eliteSize, mutationRate, generations):\n",
        "    pop = initialPopulation(popSize, population)\n",
        "    progress = []\n",
        "    progress.append(1 / rankRoutes(pop)[0][1])\n",
        "    \n",
        "    for i in range(0, generations):\n",
        "        pop = nextGeneration(pop, eliteSize, mutationRate)\n",
        "        progress.append(1 / rankRoutes(pop)[0][1])\n",
        "    \n",
        "    plt.plot(progress)\n",
        "    plt.ylabel('Distance')\n",
        "    plt.xlabel('Generation')\n",
        "    plt.show()"
      ],
      "execution_count": null,
      "outputs": []
    },
    {
      "cell_type": "code",
      "metadata": {
        "colab": {
          "base_uri": "https://localhost:8080/",
          "height": 279
        },
        "id": "Bm4bNmuMppiO",
        "outputId": "419409fe-d863-45f4-972c-854baa8a5c9c"
      },
      "source": [
        "geneticAlgorithmPlot(population=cityList, popSize=100, eliteSize=20, mutationRate=0.01, generations=500)"
      ],
      "execution_count": null,
      "outputs": [
        {
          "output_type": "display_data",
          "data": {
            "image/png": "[encoded data removed]",
            "text/plain": [
              "<Figure size 432x288 with 1 Axes>"
            ]
          },
          "metadata": {
            "tags": [],
            "needs_background": "light"
          }
        }
      ]
    }
  ]
}